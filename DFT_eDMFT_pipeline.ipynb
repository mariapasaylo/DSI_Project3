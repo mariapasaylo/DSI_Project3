{
 "cells": [
  {
   "cell_type": "code",
   "execution_count": 2,
   "id": "83245943",
   "metadata": {},
   "outputs": [
    {
     "name": "stdout",
     "output_type": "stream",
     "text": [
      "🗹 jarvis present\n",
      "🗹 ase present\n",
      "🗹 numpy present\n"
     ]
    }
   ],
   "source": [
    "# step 1: ensure all required dependencies are present\n",
    "\n",
    "import os\n",
    "import sys\n",
    "\n",
    "packages = {'jarvis': 'jarvis-tools', 'ase': 'ase', 'numpy': 'numpy'}\n",
    "missing = []\n",
    "\n",
    "for module, package in packages.items():\n",
    "    try:\n",
    "        __import__(module)\n",
    "        print(f'🗹 {module} present')\n",
    "    except ImportError:\n",
    "        print(f'✘ {module} NOT present')\n",
    "        \n",
    "\n",
    "\n",
    "\n"
   ]
  },
  {
   "cell_type": "code",
   "execution_count": null,
   "id": "fe1db2f4-dbbb-4964-9beb-c4b1bb8f3824",
   "metadata": {},
   "outputs": [],
   "source": []
  },
  {
   "cell_type": "code",
   "execution_count": null,
   "id": "44f1fc99-479e-44b1-a00a-56f7f9fcf2ca",
   "metadata": {},
   "outputs": [],
   "source": []
  }
 ],
 "metadata": {
  "kernelspec": {
   "display_name": "Conda (DSI)",
   "language": "python",
   "name": "dsi"
  },
  "language_info": {
   "codemirror_mode": {
    "name": "ipython",
    "version": 3
   },
   "file_extension": ".py",
   "mimetype": "text/x-python",
   "name": "python",
   "nbconvert_exporter": "python",
   "pygments_lexer": "ipython3",
   "version": "3.9.23"
  }
 },
 "nbformat": 4,
 "nbformat_minor": 5
}
